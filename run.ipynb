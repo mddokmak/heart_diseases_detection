{
 "cells": [
  {
   "cell_type": "markdown",
   "metadata": {},
   "source": [
    "# ML Project 1 : Heart Diseases Detection Using Machine Learning Techniques\n",
    "\n",
    "**Authors:** Mahmoud Dokmak, Adam Ben Slama, Jianan Xu"
   ]
  },
  {
   "cell_type": "code",
   "execution_count": null,
   "metadata": {
    "ExecuteTime": {
     "end_time": "2024-11-01T09:30:58.419096Z",
     "start_time": "2024-11-01T09:30:56.957524Z"
    }
   },
   "outputs": [],
   "source": [
    "# No external libraries allowed! (e.g. Pandas, Scikit-Learn, PyTorch, TensorFlow, ...).\n",
    "import numpy as np\n",
    "from helpers import *\n",
    "from implementations import *\n",
    "from myutils import *\n",
    "from cross_validation import *\n",
    "from data_processing import *\n",
    "\n",
    "%load_ext autoreload\n",
    "%autoreload 2\n",
    "\n",
    "np.random.seed(42)"
   ]
  },
  {
   "cell_type": "markdown",
   "metadata": {},
   "source": [
    "# 1. Data Loading"
   ]
  },
  {
   "cell_type": "code",
   "execution_count": null,
   "metadata": {
    "ExecuteTime": {
     "end_time": "2024-11-01T09:32:37.209977Z",
     "start_time": "2024-11-01T09:31:01.048521Z"
    }
   },
   "outputs": [],
   "source": [
    "x_train, x_test, y_train, train_ids, test_ids = load_csv_data(\n",
    "    \"./data/dataset/\", sub_sample=False\n",
    ")"
   ]
  },
  {
   "cell_type": "code",
   "execution_count": 3,
   "metadata": {
    "ExecuteTime": {
     "end_time": "2024-11-01T09:32:37.254707Z",
     "start_time": "2024-11-01T09:32:37.228461Z"
    }
   },
   "outputs": [
    {
     "name": "stdout",
     "output_type": "stream",
     "text": [
      "x_train shape:  (328135, 321)\n",
      "x_test shape:  (109379, 321)\n",
      "y_train shape:  (328135,)\n",
      "train_ids shape:  (328135,)\n",
      "test_ids shape:  (109379,)\n"
     ]
    }
   ],
   "source": [
    "print(\"x_train shape: \", x_train.shape)\n",
    "print(\"x_test shape: \", x_test.shape)\n",
    "print(\"y_train shape: \", y_train.shape)\n",
    "print(\"train_ids shape: \", train_ids.shape)\n",
    "print(\"test_ids shape: \", test_ids.shape)"
   ]
  },
  {
   "cell_type": "markdown",
   "metadata": {},
   "source": [
    "# 2. Data Cleaning"
   ]
  },
  {
   "cell_type": "code",
   "execution_count": 4,
   "metadata": {
    "ExecuteTime": {
     "end_time": "2024-11-01T09:32:38.434807Z",
     "start_time": "2024-11-01T09:32:37.920568Z"
    }
   },
   "outputs": [
    {
     "name": "stdout",
     "output_type": "stream",
     "text": [
      "(328135, 322)\n",
      "28975\n"
     ]
    }
   ],
   "source": [
    "# Ensure y_train is a 2D array with one column\n",
    "y_train_reshaped = y_train.reshape(-1, 1)\n",
    "y_train_reshaped[y_train_reshaped == -1] = 0\n",
    "# Concatenate the arrays along the columns (axis=1)\n",
    "xy_train = np.concatenate((x_train, y_train_reshaped), axis=1)\n",
    "\n",
    "print(xy_train.shape)\n",
    "print(np.count_nonzero(xy_train[:, -1] == 1))"
   ]
  },
  {
   "cell_type": "markdown",
   "metadata": {},
   "source": [
    "We remarked that there are many missing values in the dataset. To deal with this issue, we tried to remove rows with missing values. Deleting every row with a missing value will basically delete every row and is not a good solution. By inspection, we found that deleting the rows with more than 60% missing values is the best solution."
   ]
  },
  {
   "cell_type": "code",
   "execution_count": 5,
   "metadata": {
    "ExecuteTime": {
     "end_time": "2024-11-01T09:32:39.375171Z",
     "start_time": "2024-11-01T09:32:38.471844Z"
    }
   },
   "outputs": [
    {
     "name": "stdout",
     "output_type": "stream",
     "text": [
      "(0, 322)\n",
      "28396\n",
      "(318595, 322)\n"
     ]
    }
   ],
   "source": [
    "# We can see how many samples left if we delete rows if there is one empty. This is useful for report.\n",
    "mask = ~np.isnan(xy_train).any(axis=1)\n",
    "xy_train_overcleaned = xy_train[mask]\n",
    "print(xy_train_overcleaned.shape)\n",
    "\n",
    "# Delete the rows where more than 60% of the values are nan\n",
    "empty_rate = 0.6 * xy_train.shape[1]\n",
    "number_of_nans = np.isnan(xy_train).sum(axis=1)\n",
    "train_data = xy_train[number_of_nans <= empty_rate]\n",
    "print(np.count_nonzero(train_data[:, -1] == 1))\n",
    "print(train_data.shape)"
   ]
  },
  {
   "cell_type": "code",
   "execution_count": 6,
   "metadata": {
    "ExecuteTime": {
     "end_time": "2024-11-01T09:32:39.465857Z",
     "start_time": "2024-11-01T09:32:39.422527Z"
    }
   },
   "outputs": [
    {
     "name": "stdout",
     "output_type": "stream",
     "text": [
      "Number of ill people in the orginal training set:  28975\n",
      "Number of healthy people in the orginal training set:  299160\n",
      "Number of ill people in the filtered training set:  28396\n",
      "Number of healthy people in the filtered training set:  290199\n",
      "The ratio of ill people in the filtered training set: 0.09\n"
     ]
    }
   ],
   "source": [
    "ill_people_in_filtered_dataset = np.sum(train_data[:, -1] == 1)\n",
    "healthy_people_in_filtered_dataset = np.sum(train_data[:, -1] == 0)\n",
    "\n",
    "print(\"Number of ill people in the orginal training set: \", np.sum(y_train == 1))\n",
    "print(\"Number of healthy people in the orginal training set: \", np.sum(y_train == 0))\n",
    "print(\n",
    "    \"Number of ill people in the filtered training set: \",\n",
    "    ill_people_in_filtered_dataset,\n",
    ")\n",
    "print(\n",
    "    \"Number of healthy people in the filtered training set: \",\n",
    "    healthy_people_in_filtered_dataset,\n",
    ")\n",
    "print(\n",
    "    f\"The ratio of ill people in the filtered training set: {ill_people_in_filtered_dataset/train_data.shape[0]:.2f}\"\n",
    ")"
   ]
  },
  {
   "cell_type": "markdown",
   "metadata": {},
   "source": [
    "# 3. EDA"
   ]
  },
  {
   "cell_type": "code",
   "execution_count": 7,
   "metadata": {
    "ExecuteTime": {
     "end_time": "2024-11-01T09:32:39.546229Z",
     "start_time": "2024-11-01T09:32:39.518356Z"
    }
   },
   "outputs": [
    {
     "name": "stdout",
     "output_type": "stream",
     "text": [
      "(318595, 321) (318595,)\n"
     ]
    }
   ],
   "source": [
    "x_train_data = train_data[:, :-1]\n",
    "y_train_data = train_data[:, -1]\n",
    "print(x_train_data.shape, y_train_data.shape)"
   ]
  },
  {
   "cell_type": "code",
   "execution_count": 8,
   "metadata": {
    "ExecuteTime": {
     "end_time": "2024-11-01T09:32:48.575475Z",
     "start_time": "2024-11-01T09:32:39.585130Z"
    }
   },
   "outputs": [
    {
     "name": "stdout",
     "output_type": "stream",
     "text": [
      "The shape of the X train after removing empty columns is:  (318595, 320)\n",
      "The shape of the X test after removing empty columns is:  (318595, 320)\n",
      "Replaced NaN values with the mean of the feature.\n",
      "The shape of the X train after replacing NaN values with the mean of the feature is:  (318595, 320)\n",
      "Replaced NaN values with the mean of the feature.\n",
      "The shape of the X test after replacing NaN values with the mean of the feature is:  (318595, 320)\n",
      "Number of NaN values left in the X train:  0\n",
      "Number of NaN values left in the X test:  0\n"
     ]
    }
   ],
   "source": [
    "# Remove columns with all NaNs\n",
    "feature_mask = np.ones(x_train_data.shape[1], dtype=bool)\n",
    "feature_mask, features_to_remove = remove_empty_columns(\n",
    "    x_train_data, y_train_data, feature_mask\n",
    ")\n",
    "x_train_removed_empty_columns = x_train_data[:, feature_mask]\n",
    "print(\n",
    "    \"The shape of the X train after removing empty columns is: \",\n",
    "    x_train_removed_empty_columns.shape,\n",
    ")\n",
    "\n",
    "# Remove the same columns from the test dataset\n",
    "x_test_removed_empty_columns = x_test[:, feature_mask]\n",
    "print(\n",
    "    \"The shape of the X test after removing empty columns is: \",\n",
    "    x_train_removed_empty_columns.shape,\n",
    ")\n",
    "\n",
    "# Replace NaNs in the train dataset with the mean of the column\n",
    "x_train_replaced_nans = replace_nan_with_column_mean(x_train_removed_empty_columns)\n",
    "print(\n",
    "    \"The shape of the X train after replacing NaN values with the mean of the feature is: \",\n",
    "    x_train_replaced_nans.shape,\n",
    ")\n",
    "\n",
    "# Replace NaNs in the test dataset with the mean of the column\n",
    "x_test_replaced_nans = replace_nan_with_column_mean(x_test_removed_empty_columns)\n",
    "print(\n",
    "    \"The shape of the X test after replacing NaN values with the mean of the feature is: \",\n",
    "    x_train_replaced_nans.shape,\n",
    ")\n",
    "\n",
    "# Check if there are any NaN values left\n",
    "print(\n",
    "    \"Number of NaN values left in the X train: \", np.isnan(x_train_replaced_nans).sum()\n",
    ")\n",
    "print(\"Number of NaN values left in the X test: \", np.isnan(x_test_replaced_nans).sum())"
   ]
  },
  {
   "cell_type": "markdown",
   "metadata": {},
   "source": [
    "Our reasoning is to replace the NaN values with the mean of the column/feature."
   ]
  },
  {
   "cell_type": "code",
   "execution_count": 9,
   "metadata": {
    "ExecuteTime": {
     "end_time": "2024-11-01T09:32:52.410866Z",
     "start_time": "2024-11-01T09:32:48.607953Z"
    }
   },
   "outputs": [
    {
     "name": "stdout",
     "output_type": "stream",
     "text": [
      "Features with less than 1000 unique values : 309\n",
      "\t[0, 1, 2, 3, 4, 5, 6, 9, 10, 11, 12, 13, 14, 15, 16, 17, 18, 19, 20, 21, 22, 23, 24, 25, 26, 27, 28, 29, 30, 31, 32, 33, 34, 35, 36, 37, 38, 39, 40, 41, 42, 43, 44, 45, 46, 47, 48, 49, 50, 51, 52, 53, 54, 55, 56, 57, 58, 59, 60, 61, 62, 63, 64, 65, 66, 67, 68, 69, 70, 71, 72, 73, 74, 75, 76, 77, 78, 79, 80, 81, 82, 83, 84, 85, 86, 87, 88, 89, 90, 91, 92, 93, 94, 95, 96, 97, 98, 99, 100, 101, 102, 103, 104, 105, 106, 107, 108, 109, 110, 111, 112, 113, 114, 115, 116, 117, 118, 119, 120, 121, 122, 123, 124, 125, 126, 127, 128, 129, 130, 131, 132, 133, 134, 135, 136, 137, 138, 139, 140, 141, 142, 143, 144, 145, 146, 147, 148, 149, 150, 151, 152, 153, 154, 155, 156, 157, 158, 159, 160, 161, 162, 163, 164, 165, 166, 167, 168, 169, 170, 171, 172, 173, 174, 175, 176, 177, 178, 179, 180, 181, 182, 183, 184, 185, 186, 187, 188, 189, 190, 191, 192, 193, 194, 195, 196, 197, 198, 199, 200, 201, 202, 203, 204, 205, 206, 207, 208, 209, 210, 211, 212, 213, 214, 215, 216, 217, 220, 222, 223, 224, 226, 227, 229, 230, 231, 232, 233, 234, 235, 236, 237, 238, 239, 240, 241, 242, 243, 244, 245, 246, 247, 248, 249, 250, 251, 253, 254, 255, 256, 257, 258, 259, 260, 261, 262, 263, 264, 265, 266, 267, 268, 269, 270, 271, 272, 273, 274, 275, 277, 278, 279, 280, 281, 282, 283, 284, 285, 286, 287, 288, 289, 290, 291, 292, 293, 294, 295, 296, 297, 298, 299, 301, 302, 304, 305, 306, 307, 308, 309, 310, 311, 312, 313, 314, 315, 316, 317, 318, 319]\n",
      "\n",
      "Features with more than 0.2 of correlation coefficient : 5\n",
      "\t[26, 58, 245, 247, 248]\n",
      "\n",
      "Features respecting both constraints : 5\n",
      "\t[ 26  58 245 247 248]\n"
     ]
    }
   ],
   "source": [
    "x_cat = x_train_replaced_nans\n",
    "x_test = x_test_replaced_nans\n",
    "y = y_train_data\n",
    "categorical_values_index_raw, correlated_values_index_raw, both_values_index_raw = (\n",
    "    feature_selection(x_cat, y, 1000, 0.2)\n",
    ")"
   ]
  },
  {
   "cell_type": "code",
   "execution_count": 10,
   "metadata": {
    "ExecuteTime": {
     "end_time": "2024-11-01T09:33:25.326689Z",
     "start_time": "2024-11-01T09:32:52.504518Z"
    }
   },
   "outputs": [],
   "source": [
    "proba_map = distribution(x_cat[:, categorical_values_index_raw], y)\n",
    "# Transform raw data into probabilities\n",
    "x_train_proba = data_to_distribution(x_cat[:, categorical_values_index_raw], proba_map)\n",
    "x_test_proba = data_to_distribution(x_test[:, categorical_values_index_raw], proba_map)"
   ]
  },
  {
   "cell_type": "code",
   "execution_count": 11,
   "metadata": {
    "ExecuteTime": {
     "end_time": "2024-11-01T09:33:25.381222Z",
     "start_time": "2024-11-01T09:33:25.357288Z"
    }
   },
   "outputs": [
    {
     "name": "stdout",
     "output_type": "stream",
     "text": [
      "(318595, 309) (109379, 309)\n"
     ]
    }
   ],
   "source": [
    "print(x_train_proba.shape, x_test_proba.shape)"
   ]
  },
  {
   "cell_type": "code",
   "execution_count": 12,
   "metadata": {
    "ExecuteTime": {
     "end_time": "2024-11-01T09:33:29.872712Z",
     "start_time": "2024-11-01T09:33:25.413849Z"
    }
   },
   "outputs": [
    {
     "name": "stdout",
     "output_type": "stream",
     "text": [
      "Features with less than 100 unique values : 294\n",
      "\t[0, 1, 3, 4, 5, 6, 7, 8, 9, 10, 11, 12, 13, 14, 15, 16, 17, 18, 19, 20, 21, 22, 23, 24, 25, 26, 27, 28, 29, 30, 31, 32, 33, 34, 35, 36, 37, 38, 39, 40, 41, 42, 43, 44, 45, 46, 47, 48, 49, 50, 51, 52, 53, 54, 55, 56, 57, 58, 59, 61, 62, 63, 64, 65, 66, 67, 68, 69, 70, 71, 72, 73, 74, 75, 76, 77, 78, 79, 80, 81, 82, 83, 84, 85, 86, 87, 88, 89, 90, 91, 92, 93, 94, 95, 96, 97, 98, 99, 100, 101, 102, 104, 105, 106, 107, 108, 109, 110, 111, 112, 113, 114, 115, 116, 117, 118, 119, 120, 121, 122, 123, 124, 125, 126, 127, 128, 129, 130, 131, 132, 133, 134, 135, 136, 137, 138, 139, 140, 141, 142, 143, 144, 145, 146, 147, 148, 149, 150, 151, 152, 153, 154, 155, 156, 157, 158, 159, 160, 161, 162, 163, 164, 165, 166, 167, 168, 169, 170, 171, 172, 173, 174, 175, 176, 177, 178, 179, 180, 181, 182, 183, 184, 185, 186, 187, 188, 189, 190, 191, 192, 193, 194, 195, 196, 197, 198, 199, 200, 201, 202, 203, 204, 205, 206, 207, 208, 209, 210, 211, 212, 213, 214, 215, 216, 217, 218, 219, 220, 222, 223, 224, 225, 226, 227, 228, 229, 230, 231, 232, 233, 234, 235, 236, 237, 238, 239, 240, 241, 242, 243, 245, 246, 247, 248, 249, 250, 251, 252, 253, 254, 256, 257, 258, 259, 260, 261, 262, 263, 264, 265, 266, 268, 269, 270, 271, 272, 273, 274, 275, 276, 279, 280, 281, 282, 283, 284, 287, 288, 293, 294, 295, 296, 297, 298, 299, 300, 301, 302, 303, 304, 305, 306, 307, 308]\n",
      "\n",
      "Features with more than 0.2 of correlation coefficient : 16\n",
      "\t[24, 32, 33, 37, 56, 67, 222, 224, 238, 239, 240, 241, 277, 278, 306, 307]\n",
      "\n",
      "Features respecting both constraints : 14\n",
      "\t[ 24  32  33  37  56  67 222 224 238 239 240 241 306 307]\n"
     ]
    }
   ],
   "source": [
    "(\n",
    "    categorical_values_index_proba,\n",
    "    correlated_values_index_proba,\n",
    "    both_values_index_proba,\n",
    ") = feature_selection(x_train_proba, y, 100, 0.2)"
   ]
  },
  {
   "cell_type": "code",
   "execution_count": 13,
   "metadata": {
    "ExecuteTime": {
     "end_time": "2024-11-01T09:33:29.926801Z",
     "start_time": "2024-11-01T09:33:29.904041Z"
    }
   },
   "outputs": [
    {
     "name": "stdout",
     "output_type": "stream",
     "text": [
      "(318595, 309) (109379, 309)\n"
     ]
    }
   ],
   "source": [
    "# The dataset to train the model\n",
    "training_dataset_all_features = x_train_proba\n",
    "# The same transformation is applied to the test dataset\n",
    "testing_dataset_all_features = x_test_proba\n",
    "# The relevant attributes/features are selected\n",
    "features_to_keep = correlated_values_index_proba\n",
    "# Select the attributes used for the training and prediction\n",
    "print(training_dataset_all_features.shape, testing_dataset_all_features.shape)"
   ]
  },
  {
   "cell_type": "code",
   "execution_count": 14,
   "metadata": {
    "ExecuteTime": {
     "end_time": "2024-11-01T09:33:30.069627Z",
     "start_time": "2024-11-01T09:33:29.958861Z"
    }
   },
   "outputs": [
    {
     "name": "stdout",
     "output_type": "stream",
     "text": [
      "(318595, 16) (109379, 16)\n"
     ]
    }
   ],
   "source": [
    "training_dataset = training_dataset_all_features[:, features_to_keep]\n",
    "testing_dataset = testing_dataset_all_features[:, features_to_keep]\n",
    "print(training_dataset.shape, testing_dataset.shape)"
   ]
  },
  {
   "cell_type": "markdown",
   "metadata": {},
   "source": [
    "# 4. Data Normalization"
   ]
  },
  {
   "cell_type": "markdown",
   "metadata": {},
   "source": [
    "One of the most important steps when we want to train a model is to ensure that the data is balanced, which means having the same number of ill and healthy people.\n",
    "\n",
    "Since there are only 9% of ill people in the filtred dataset, we balance the dataset by either oversample illness samples or undersample healthy samples."
   ]
  },
  {
   "cell_type": "code",
   "execution_count": 15,
   "metadata": {
    "ExecuteTime": {
     "end_time": "2024-11-01T09:33:30.253989Z",
     "start_time": "2024-11-01T09:33:30.096230Z"
    }
   },
   "outputs": [
    {
     "name": "stdout",
     "output_type": "stream",
     "text": [
      "(318595, 16) (318595,)\n",
      "(56792, 16) (109379, 16)\n"
     ]
    }
   ],
   "source": [
    "# Undersample healthy samples\n",
    "print(training_dataset.shape, y.shape)\n",
    "y_reshaped = y.reshape(-1, 1)\n",
    "xy_train = np.concatenate((training_dataset, y_reshaped), axis=1)\n",
    "a = undersample(xy_train)\n",
    "training_dataset = a[:, :-1]\n",
    "y = a[:, -1]\n",
    "# standardize the data\n",
    "x_train_standardized = standardize(training_dataset)\n",
    "x_test_standardized = standardize(testing_dataset)\n",
    "print(x_train_standardized.shape, x_test_standardized.shape)"
   ]
  },
  {
   "cell_type": "markdown",
   "metadata": {},
   "source": [
    "The last step before training the model is to standardize the data."
   ]
  },
  {
   "cell_type": "code",
   "execution_count": 16,
   "metadata": {
    "ExecuteTime": {
     "end_time": "2024-11-01T09:33:30.329965Z",
     "start_time": "2024-11-01T09:33:30.275821Z"
    }
   },
   "outputs": [
    {
     "name": "stdout",
     "output_type": "stream",
     "text": [
      "(56792, 16) (109379, 16)\n"
     ]
    }
   ],
   "source": [
    "# standardize the data\n",
    "x_train_standardized = standardize(training_dataset)\n",
    "x_test_standardized = standardize(testing_dataset)\n",
    "print(x_train_standardized.shape, x_test_standardized.shape)"
   ]
  },
  {
   "cell_type": "markdown",
   "metadata": {},
   "source": [
    "We use 5-fold cross validation."
   ]
  },
  {
   "cell_type": "code",
   "execution_count": 22,
   "metadata": {
    "ExecuteTime": {
     "end_time": "2024-10-31T20:17:50.584004Z",
     "start_time": "2024-10-31T20:15:26.244679Z"
    }
   },
   "outputs": [
    {
     "name": "stdout",
     "output_type": "stream",
     "text": [
      "Evaluating method: mean_squared_error_gd\n",
      "Best hyperparameters for mean_squared_error_gd: {'degree': 2, 'gamma': 0.1, 'max_iters': 300}\n",
      "Metrics: Accuracy=0.3952, F1 Score=0.7713, Loss=0.0812\n",
      "----------------------------------------------\n",
      "Evaluating method: mean_squared_error_sgd\n",
      "Best hyperparameters for mean_squared_error_sgd: {'degree': 1, 'gamma': 0.001, 'max_iters': 5000}\n",
      "Metrics: Accuracy=0.3745, F1 Score=0.7555, Loss=0.0504\n",
      "----------------------------------------------\n",
      "Evaluating method: least_squares\n",
      "Best hyperparameters for least_squares: {'degree': 4}\n",
      "Metrics: Accuracy=0.3962, F1 Score=0.7721, Loss=0.0809\n",
      "----------------------------------------------\n",
      "Evaluating method: ridge_regression\n",
      "Best hyperparameters for ridge_regression: {'degree': 4, 'lambda_': 0.007543120063354615}\n",
      "Metrics: Accuracy=0.3963, F1 Score=0.7725, Loss=0.0811\n",
      "----------------------------------------------\n",
      "Evaluating method: logistic_regression\n",
      "Best hyperparameters for logistic_regression: {'degree': 1, 'gamma': 1e-05, 'max_iters': 100}\n",
      "Metrics: Accuracy=0.5000, F1 Score=0.6667, Loss=0.6929\n",
      "----------------------------------------------\n",
      "Evaluating method: reg_logistic_regression\n",
      "Best hyperparameters for reg_logistic_regression: {'degree': 1, 'gamma': 1e-05, 'max_iters': 100, 'lambda_': 1e-05}\n",
      "Metrics: Accuracy=0.5000, F1 Score=0.6667, Loss=0.6929\n",
      "----------------------------------------------\n",
      "Evaluating method: svm\n",
      "Best hyperparameters for svm: {'degree': 0, 'C': 10.0, 'learning_rate': 0.001, 'n_iters': 100}\n",
      "Metrics: Accuracy=0.4502, F1 Score=0.7691, Loss=6.7005\n",
      "----------------------------------------------\n",
      "The best method is: ridge_regression with F1 Score: 0.7725\n",
      "Best hyperparameters: {'degree': 4, 'lambda_': 0.007543120063354615}\n"
     ]
    }
   ],
   "source": [
    "\"\"\"\n",
    "x = x_train_standardized\n",
    "y=y\n",
    "\n",
    "# Set number of folds\n",
    "k_fold = 5\n",
    "k_indices = build_k_indices(y, k_fold, seed=1)\n",
    "\n",
    "# Prepare to store results\n",
    "methods = ['mean_squared_error_gd', 'mean_squared_error_sgd', 'least_squares',\n",
    "           'ridge_regression', 'logistic_regression', 'reg_logistic_regression', 'svm'] \n",
    "\n",
    "\n",
    "results = {}\n",
    "\n",
    "# Loop over methods\n",
    "for method in methods:\n",
    "    print(f\"Evaluating method: {method}\")\n",
    "    best_hyperparams, best_metrics = tune_hyperparameters(method, y, x, k_indices, k_fold)\n",
    "    results[method] = {'best_hyperparams': best_hyperparams, 'metrics': best_metrics}\n",
    "    print(f\"Best hyperparameters for {method}: {best_hyperparams}\")\n",
    "    print(f\"Metrics: Accuracy={best_metrics['accuracy']:.4f}, F1 Score={best_metrics['f1_score']:.4f}, Loss={best_metrics['loss']:.4f}\")\n",
    "    print(\"----------------------------------------------\")\n",
    "\n",
    "# Select the best model\n",
    "best_method = None\n",
    "best_f1_score = -np.inf\n",
    "best_overall_hyperparams = None\n",
    "\n",
    "for method in methods:\n",
    "    if results[method]['metrics']['f1_score'] > best_f1_score:\n",
    "        best_f1_score = results[method]['metrics']['f1_score']\n",
    "        best_method = method\n",
    "        best_overall_hyperparams = results[method]['best_hyperparams']\n",
    "\n",
    "print(f\"The best method is: {best_method} with F1 Score: {best_f1_score:.4f}\")\n",
    "print(f\"Best hyperparameters: {best_overall_hyperparams}\")\n",
    "\"\"\""
   ]
  },
  {
   "cell_type": "code",
   "execution_count": 18,
   "metadata": {
    "ExecuteTime": {
     "end_time": "2024-11-01T09:33:30.414682Z",
     "start_time": "2024-11-01T09:33:30.397636Z"
    }
   },
   "outputs": [],
   "source": [
    "# This is the output cell of the previous cell\n",
    "# Evaluating method: mean_squared_error_gd\n",
    "# Best hyperparameters for mean_squared_error_gd: {'degree': 2, 'gamma': 0.1, 'max_iters': 300}\n",
    "# Metrics: Accuracy=0.3952, F1 Score=0.7713, Loss=0.0812\n",
    "# ----------------------------------------------\n",
    "# Evaluating method: mean_squared_error_sgd\n",
    "# Best hyperparameters for mean_squared_error_sgd: {'degree': 1, 'gamma': 0.001, 'max_iters': 5000}\n",
    "# Metrics: Accuracy=0.3745, F1 Score=0.7555, Loss=0.0504\n",
    "# ----------------------------------------------\n",
    "# Evaluating method: least_squares\n",
    "# Best hyperparameters for least_squares: {'degree': 4}\n",
    "# Metrics: Accuracy=0.3962, F1 Score=0.7721, Loss=0.0809\n",
    "# ----------------------------------------------\n",
    "# Evaluating method: ridge_regression\n",
    "# Best hyperparameters for ridge_regression: {'degree': 4, 'lambda_': 0.007543120063354615}\n",
    "# Metrics: Accuracy=0.3963, F1 Score=0.7725, Loss=0.0811\n",
    "# ----------------------------------------------\n",
    "# Evaluating method: logistic_regression\n",
    "# Best hyperparameters for logistic_regression: {'degree': 1, 'gamma': 1e-05, 'max_iters': 100}\n",
    "# Metrics: Accuracy=0.5000, F1 Score=0.6667, Loss=0.6929\n",
    "# ----------------------------------------------\n",
    "# Evaluating method: reg_logistic_regression\n",
    "# Best hyperparameters for reg_logistic_regression: {'degree': 1, 'gamma': 1e-05, 'max_iters': 100, 'lambda_': 1e-05}\n",
    "# Metrics: Accuracy=0.5000, F1 Score=0.6667, Loss=0.6929\n",
    "# ----------------------------------------------\n",
    "# Evaluating method: svm\n",
    "# Best hyperparameters for svm: {'degree': 0, 'C': 10.0, 'learning_rate': 0.001, 'n_iters': 100}\n",
    "# Metrics: Accuracy=0.4502, F1 Score=0.7691, Loss=6.7005\n",
    "# ----------------------------------------------\n",
    "# The best method is: ridge_regression with F1 Score: 0.7725\n",
    "# Best hyperparameters: {'degree': 4, 'lambda_': 0.007543120063354615}\n",
    "#"
   ]
  },
  {
   "cell_type": "markdown",
   "metadata": {},
   "source": [
    "\n",
    " # 5. Training & Predicting"
   ]
  },
  {
   "cell_type": "code",
   "execution_count": 19,
   "metadata": {
    "ExecuteTime": {
     "end_time": "2024-11-01T09:33:30.711739Z",
     "start_time": "2024-11-01T09:33:30.437119Z"
    }
   },
   "outputs": [
    {
     "name": "stdout",
     "output_type": "stream",
     "text": [
      "0.007543120063354615\n",
      "Using ridge_regression with hyperparameters: {'degree': 4, 'lambda_': 0.007543120063354615}\n",
      "(109379,)\n"
     ]
    }
   ],
   "source": [
    "def predict(y_train, x_train, x_test, method, hyperparams):\n",
    "    if method == \"mean_squared_error_gd\":\n",
    "        gamma = hyperparams[\"gamma\"]\n",
    "        max_iters = hyperparams[\"max_iters\"]\n",
    "        initial_w = np.zeros(x_train.shape[1])\n",
    "        w, __doc__ = mean_squared_error_gd(\n",
    "            y_train, x_train, initial_w, max_iters, gamma\n",
    "        )\n",
    "        y_pred = x_test @ w\n",
    "        y_pred_labels = np.where(y_pred >= 0, 1, -1)\n",
    "    elif method == \"mean_squared_error_sgd\":\n",
    "        gamma = hyperparams[\"gamma\"]\n",
    "        max_iters = hyperparams[\"max_iters\"]\n",
    "        initial_w = np.zeros(x_train.shape[1])\n",
    "        w, _ = mean_squared_error_sgd(y_train, x_train, initial_w, max_iters, gamma)\n",
    "        y_pred = x_test @ w\n",
    "        y_pred_labels = np.where(y_pred >= 0, 1, -1)\n",
    "    elif method == \"least_squares\":\n",
    "        w, _ = least_squares(y_train, x_train)\n",
    "        y_pred = x_test @ w\n",
    "        y_pred_labels = np.where(y_pred >= 0, 1, -1)\n",
    "    elif method == \"ridge_regression\":\n",
    "        lambda_ = hyperparams[\"lambda_\"]\n",
    "        w, _ = ridge_regression(y_train, x_train, lambda_)\n",
    "        y_pred = x_test @ w\n",
    "        y_pred_labels = np.where(y_pred >= 0, 1, -1)\n",
    "    elif method == \"logistic_regression\":\n",
    "        gamma = hyperparams[\"gamma\"]\n",
    "        max_iters = hyperparams[\"max_iters\"]\n",
    "        initial_w = np.zeros(x_train.shape[1])\n",
    "        y_train_binary = np.where(y_train == -1, 0, 1)\n",
    "        w, _ = logistic_regression(y_train_binary, x_train, initial_w, max_iters, gamma)\n",
    "        y_pred_prob = sigmoid(x_test @ w)\n",
    "        y_pred_labels = np.where(y_pred_prob >= 0.5, 1, -1)\n",
    "    elif method == \"reg_logistic_regression\":\n",
    "        gamma = hyperparams[\"gamma\"]\n",
    "        max_iters = hyperparams[\"max_iters\"]\n",
    "        lambda_ = hyperparams[\"lambda_\"]\n",
    "        initial_w = np.zeros(x_train.shape[1])\n",
    "        y_train_binary = np.where(y_train == -1, 0, 1)\n",
    "        w, _ = reg_logistic_regression(\n",
    "            y_train_binary, x_train, lambda_, initial_w, max_iters, gamma\n",
    "        )\n",
    "        y_pred_prob = sigmoid(x_test @ w)\n",
    "        y_pred_labels = np.where(y_pred_prob >= 0.5, 1, -1)\n",
    "    else:\n",
    "        raise ValueError(f\"Unknown method: {method}\")\n",
    "\n",
    "    return y_pred_labels\n",
    "\n",
    "\n",
    "# The best model\n",
    "x = x_train_standardized\n",
    "y = y\n",
    "x_test_data = x_test_standardized\n",
    "method = \"ridge_regression\"\n",
    "# hyperparams = results[method]['best_hyperparams']\n",
    "hyperparams = {\"degree\": 4, \"lambda_\": 0.007543120063354615}\n",
    "print(hyperparams[\"lambda_\"])\n",
    "print(f\"Using {method} with hyperparameters: {hyperparams}\")\n",
    "y_pred_labels = predict(y, x, x_test_data, method, hyperparams)\n",
    "print(y_pred_labels.shape)\n",
    "create_csv_submission(test_ids, y_pred_labels, \"submission.csv\")"
   ]
  },
  {
   "cell_type": "markdown",
   "metadata": {},
   "source": [
    "## Plot"
   ]
  },
  {
   "cell_type": "markdown",
   "metadata": {},
   "source": [
    "Example of the cross validation process to determine the best hyperparameters for ridge regression. Here is an example to determine the best lambda value for ridge regression with a polynomial degree of 3."
   ]
  },
  {
   "cell_type": "code",
   "execution_count": 20,
   "metadata": {
    "ExecuteTime": {
     "end_time": "2024-11-01T09:33:31.737881Z",
     "start_time": "2024-11-01T09:33:30.735137Z"
    }
   },
   "outputs": [
    {
     "data": {
      "image/png": "[encoded data removed]",
      "text/plain": [
       "<Figure size 1000x600 with 1 Axes>"
      ]
     },
     "metadata": {},
     "output_type": "display_data"
    }
   ],
   "source": [
    "plot_ridge_regression_performance(y, x, degree=3)"
   ]
  }
 ],
 "metadata": {
  "kernelspec": {
   "display_name": "ml",
   "language": "python",
   "name": "python3"
  },
  "language_info": {
   "codemirror_mode": {
    "name": "ipython",
    "version": 3
   },
   "file_extension": ".py",
   "mimetype": "text/x-python",
   "name": "python",
   "nbconvert_exporter": "python",
   "pygments_lexer": "ipython3",
   "version": "3.10.14"
  }
 },
 "nbformat": 4,
 "nbformat_minor": 2
}
